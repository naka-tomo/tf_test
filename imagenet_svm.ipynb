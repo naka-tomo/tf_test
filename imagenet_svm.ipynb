{
 "cells": [
  {
   "cell_type": "code",
   "execution_count": 1,
   "metadata": {},
   "outputs": [],
   "source": [
    "import tensorflow as tf\n",
    "import numpy as np"
   ]
  },
  {
   "cell_type": "markdown",
   "metadata": {},
   "source": [
    "# 学習済みネットワークで物体認識"
   ]
  },
  {
   "cell_type": "code",
   "execution_count": 2,
   "metadata": {},
   "outputs": [],
   "source": [
    "# 学習済みネットワークを読み込み\n",
    "f = open(\"classify_image_graph_def.pb\", \"rb\")\n",
    "graph_def = tf.GraphDef()\n",
    "graph_def.ParseFromString(f.read())\n",
    "tf.import_graph_def(graph_def, name='')\n",
    "f.close()"
   ]
  },
  {
   "cell_type": "code",
   "execution_count": 3,
   "metadata": {},
   "outputs": [],
   "source": [
    "# 出力のindexと名前の対応ファイル読み込み\n",
    "f = open(\"index2name.txt\", \"r\")\n",
    "index2name = {}\n",
    "for line in  f.readlines():\n",
    "    index, name = line.strip().split(\"\\t\")\n",
    "    index2name[int(index)] = name\n",
    "f.close()"
   ]
  },
  {
   "cell_type": "code",
   "execution_count": 4,
   "metadata": {},
   "outputs": [],
   "source": [
    "# 認識する画像を読み込み\n",
    "f = open(\"images/panda.jpg\", \"rb\")\n",
    "img = f.read()\n",
    "f.close()"
   ]
  },
  {
   "cell_type": "code",
   "execution_count": 5,
   "metadata": {},
   "outputs": [],
   "source": [
    "# 画像認識\n",
    "with tf.Session() as sess:\n",
    "    softmax_tensor = sess.graph.get_tensor_by_name(\"softmax:0\")\n",
    "    feed_dict = {\"DecodeJpeg/contents:0\": img}\n",
    "    predictions = sess.run(softmax_tensor, feed_dict=feed_dict)[0]"
   ]
  },
  {
   "cell_type": "code",
   "execution_count": 6,
   "metadata": {},
   "outputs": [
    {
     "name": "stdout",
     "output_type": "stream",
     "text": [
      "第1位：giant panda, panda, panda bear, coon bear, Ailuropoda melanoleuca (score=0.891073)\n",
      "第2位：indri, indris, Indri indri, Indri brevicaudatus (score=0.007791)\n",
      "第3位：lesser panda, red panda, panda, bear cat, cat bear, Ailurus fulgens (score=0.002959)\n",
      "第4位：custard apple (score=0.001466)\n",
      "第5位：earthstar (score=0.001174)\n"
     ]
    }
   ],
   "source": [
    "# 認識結果表示\n",
    "top_n =  np.argsort( predictions )[::-1]\n",
    "\n",
    "for i in range(5):\n",
    "    idx = top_n[i]\n",
    "    print(  \"第%d位：%s (score=%lf)\" % (i+1,index2name[idx],  predictions[idx] ) )    "
   ]
  },
  {
   "cell_type": "markdown",
   "metadata": {},
   "source": [
    "# 学習済みネットワークとSVMで学習と認識"
   ]
  },
  {
   "cell_type": "code",
   "execution_count": 7,
   "metadata": {},
   "outputs": [],
   "source": [
    "# 特徴抽出をしてSVMを学習\n",
    "images = []\n",
    "\n",
    "# 学習用\n",
    "for i in range(10):\n",
    "    f = open(\"images/%03d.png\" % i, \"rb\")\n",
    "    img = f.read()\n",
    "    images.append(img)\n",
    "    f.close()\n",
    "labels = np.loadtxt(\"images/labels.txt\")"
   ]
  },
  {
   "cell_type": "code",
   "execution_count": 8,
   "metadata": {},
   "outputs": [],
   "source": [
    "# 学習済みネットワークから特徴抽出\n",
    "features = []\n",
    "with tf.Session() as sess:\n",
    "    for img in images:\n",
    "        pool = sess.graph.get_tensor_by_name(\"pool_3:0\")\n",
    "        feed_dict = {\"DecodeJpeg/contents:0\": img}\n",
    "        feat = sess.run(pool, feed_dict=feed_dict)[0].flatten()\n",
    "        features.append(feat)"
   ]
  },
  {
   "cell_type": "code",
   "execution_count": 9,
   "metadata": {},
   "outputs": [
    {
     "data": {
      "text/plain": [
       "SVC(C=1.0, cache_size=200, class_weight=None, coef0=0.0,\n",
       "  decision_function_shape='ovr', degree=3, gamma='auto', kernel='rbf',\n",
       "  max_iter=-1, probability=False, random_state=None, shrinking=True,\n",
       "  tol=0.001, verbose=False)"
      ]
     },
     "execution_count": 9,
     "metadata": {},
     "output_type": "execute_result"
    }
   ],
   "source": [
    "# SVM学習\n",
    "from sklearn.svm import SVC\n",
    "\n",
    "svc = SVC()\n",
    "svc.fit(features, labels)"
   ]
  },
  {
   "cell_type": "code",
   "execution_count": 10,
   "metadata": {},
   "outputs": [],
   "source": [
    "# 未学習画像を認識\n",
    "test_images = []\n",
    "\n",
    "# 学習用\n",
    "for i in range(6):\n",
    "    f = open(\"images/test%03d.png\" % i, \"rb\")\n",
    "    img = f.read()\n",
    "    test_images.append(img)\n",
    "    f.close()"
   ]
  },
  {
   "cell_type": "code",
   "execution_count": 11,
   "metadata": {},
   "outputs": [
    {
     "name": "stdout",
     "output_type": "stream",
     "text": [
      "分類結果： [0. 0. 0. 1. 1. 1.]\n"
     ]
    }
   ],
   "source": [
    "# 学習済みネットワークから特徴抽出\n",
    "test_features = []\n",
    "with tf.Session() as sess:\n",
    "    for img in test_images:\n",
    "        pool = sess.graph.get_tensor_by_name(\"pool_3:0\")\n",
    "        feed_dict = {\"DecodeJpeg/contents:0\": img}\n",
    "        feat = sess.run(pool, feed_dict=feed_dict)[0].flatten()\n",
    "        test_features.append(feat)\n",
    "        \n",
    "# SVMで分類\n",
    "prediction = svc.predict(test_features)\n",
    "\n",
    "print(\"分類結果：\", prediction)"
   ]
  },
  {
   "cell_type": "code",
   "execution_count": null,
   "metadata": {},
   "outputs": [],
   "source": []
  }
 ],
 "metadata": {
  "kernelspec": {
   "display_name": "Python 3",
   "language": "python",
   "name": "python3"
  },
  "language_info": {
   "codemirror_mode": {
    "name": "ipython",
    "version": 3
   },
   "file_extension": ".py",
   "mimetype": "text/x-python",
   "name": "python",
   "nbconvert_exporter": "python",
   "pygments_lexer": "ipython3",
   "version": "3.6.6"
  }
 },
 "nbformat": 4,
 "nbformat_minor": 2
}
