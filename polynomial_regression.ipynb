{
 "cells": [
  {
   "cell_type": "code",
   "execution_count": 113,
   "metadata": {},
   "outputs": [],
   "source": [
    "import tensorflow as tf\n",
    "import matplotlib.pyplot as plt\n",
    "import numpy as np"
   ]
  },
  {
   "cell_type": "code",
   "execution_count": 216,
   "metadata": {},
   "outputs": [
    {
     "data": {
      "text/plain": [
       "<matplotlib.collections.PathCollection at 0x1406e4668>"
      ]
     },
     "execution_count": 216,
     "metadata": {},
     "output_type": "execute_result"
    },
    {
     "data": {
      "image/png": "[encoded data removed]",
      "text/plain": [
       "<Figure size 432x288 with 1 Axes>"
      ]
     },
     "metadata": {},
     "output_type": "display_data"
    }
   ],
   "source": [
    "# データを作る\n",
    "def f(x):\n",
    "    return 1.5*x*x + 10\n",
    "\n",
    "x_data = np.linspace( -1, 1, 10 ) + np.random.normal(0, 0.3,  10 )\n",
    "y_data = f( x_data ) + np.random.normal(0, 0.1,  x_data.shape )\n",
    "\n",
    "plt.scatter( x_data, y_data )"
   ]
  },
  {
   "cell_type": "code",
   "execution_count": 229,
   "metadata": {},
   "outputs": [],
   "source": [
    "# モデルを定義\n",
    "dim = 9\n",
    "\n",
    "## 入力：1次元で個数は未知（None）\n",
    "X = tf.placeholder(tf.float32, shape=(None,1))\n",
    "\n",
    "## [x, x^2, x^3, x^4, x^5]となる行列を作る\n",
    "XX = tf.concat( [X**d for d in range(1,dim+1)], 1 )\n",
    "\n",
    "## モデルパラメータ\n",
    "w = tf.Variable(tf.zeros([dim,1]))\n",
    "b = tf.Variable( tf.zeros(1) )\n",
    "\n",
    "# 多項式\n",
    "y = tf.matmul(XX, w) + b\n",
    "\n",
    "# 正解データ\n",
    "y_ = tf.placeholder(tf.float32, shape=(None,1))"
   ]
  },
  {
   "cell_type": "code",
   "execution_count": 236,
   "metadata": {},
   "outputs": [],
   "source": [
    "# 目的関数\n",
    "loss = tf.reduce_mean(tf.square(y - y_))\n",
    "\n",
    "# 正則化\n",
    "#loss += 0.1*tf.reduce_sum( tf.abs(w) )\n",
    "\n",
    "# 勾配降下法\n",
    "train_step = tf.train.AdamOptimizer(0.1).minimize(loss)"
   ]
  },
  {
   "cell_type": "code",
   "execution_count": null,
   "metadata": {},
   "outputs": [],
   "source": [
    "# 学習\n",
    "with tf.Session() as sess:\n",
    "    sess.run(tf.initialize_all_variables())\n",
    "\n",
    "    for itr in range(1000):\n",
    "        feed_dict = {X: x_data.reshape(-1,1), y_:y_data.reshape(-1,1)}\n",
    "        _, train_loss = sess.run([train_step, loss], feed_dict=feed_dict)\n",
    "        \n",
    "        print( \"itr: \" , itr,  \"loss: \", train_loss)\n",
    "\n",
    "    # 学習した関数を表示\n",
    "    x_pred = np.linspace( -1, 1, 100 )\n",
    "    feed_dict = {X: x_pred.reshape( -1, 1 )}\n",
    "\n",
    "    y_pred, weight, bias = sess.run([y, w, b], feed_dict=feed_dict)\n",
    "\n",
    "    print(\"weight\")\n",
    "    print(weight)\n",
    "    print(\"bias\")\n",
    "    print(bias)\n",
    "    \n",
    "    plt.plot(x_pred, y_pred.reshape(-1))\n",
    "    plt.scatter(x_data, y_data)\n",
    "\n",
    "    plt.show()\n"
   ]
  },
  {
   "cell_type": "code",
   "execution_count": null,
   "metadata": {},
   "outputs": [],
   "source": []
  }
 ],
 "metadata": {
  "kernelspec": {
   "display_name": "Python 3",
   "language": "python",
   "name": "python3"
  },
  "language_info": {
   "codemirror_mode": {
    "name": "ipython",
    "version": 3
   },
   "file_extension": ".py",
   "mimetype": "text/x-python",
   "name": "python",
   "nbconvert_exporter": "python",
   "pygments_lexer": "ipython3",
   "version": "3.6.6"
  }
 },
 "nbformat": 4,
 "nbformat_minor": 2
}
