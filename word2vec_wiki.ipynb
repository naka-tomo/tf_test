{
 "cells": [
  {
   "cell_type": "code",
   "execution_count": 2,
   "metadata": {},
   "outputs": [],
   "source": [
    "from gensim.models import word2vec"
   ]
  },
  {
   "cell_type": "code",
   "execution_count": 2,
   "metadata": {},
   "outputs": [],
   "source": [
    "# 学習\n",
    "data = word2vec.Text8Corpus(\"wiki_wakati.txt\")\n",
    "model = word2vec.Word2Vec( data, size=100 )\n",
    "model.save(\"jsawiki.model\")"
   ]
  },
  {
   "cell_type": "markdown",
   "metadata": {},
   "source": [
    "学習に使ったテキスト：[wiki_wakati.txt](https://drive.google.com/open?id=1oa-ZIkrK3-CmTkH0T2SYg31gki9v0ma9)"
   ]
  },
  {
   "cell_type": "code",
   "execution_count": 3,
   "metadata": {},
   "outputs": [],
   "source": [
    "# 学習したモデルの利用\n",
    "model = word2vec.Word2Vec.load(\"jsawiki.model\")"
   ]
  },
  {
   "cell_type": "markdown",
   "metadata": {},
   "source": [
    "学習済みのモデル：[jsawiki.model](https://drive.google.com/open?id=1NwN51tXUXTQIaKv00vWR6NjwxHURKVXc)"
   ]
  },
  {
   "cell_type": "code",
   "execution_count": 4,
   "metadata": {},
   "outputs": [
    {
     "name": "stderr",
     "output_type": "stream",
     "text": [
      "/Users/naka_t/.pyenv/versions/anaconda3-5.0.0/envs/morph/lib/python3.6/site-packages/ipykernel_launcher.py:2: DeprecationWarning: Call to deprecated `most_similar` (Method will be removed in 4.0.0, use self.wv.most_similar() instead).\n",
      "  \n"
     ]
    },
    {
     "data": {
      "text/plain": [
       "[('お姫様', 0.6949310898780823),\n",
       " ('お姫さま', 0.6939147710800171),\n",
       " ('神様', 0.6755353808403015),\n",
       " ('魔女', 0.6630016565322876),\n",
       " ('わたし', 0.6613613963127136),\n",
       " ('友だち', 0.6459211111068726),\n",
       " ('私', 0.6440663933753967),\n",
       " ('シンデレラ', 0.635481595993042),\n",
       " ('僕', 0.6337747573852539),\n",
       " ('ソフィー', 0.6303694844245911)]"
      ]
     },
     "execution_count": 4,
     "metadata": {},
     "output_type": "execute_result"
    }
   ],
   "source": [
    "# 王様 + 女王 - 男性\n",
    "model.most_similar( positive=[\"王様\", \"女性\" ], negative=[\"男性\"] )"
   ]
  },
  {
   "cell_type": "code",
   "execution_count": null,
   "metadata": {},
   "outputs": [],
   "source": []
  }
 ],
 "metadata": {
  "kernelspec": {
   "display_name": "Python 3",
   "language": "python",
   "name": "python3"
  },
  "language_info": {
   "codemirror_mode": {
    "name": "ipython",
    "version": 3
   },
   "file_extension": ".py",
   "mimetype": "text/x-python",
   "name": "python",
   "nbconvert_exporter": "python",
   "pygments_lexer": "ipython3",
   "version": "3.6.6"
  }
 },
 "nbformat": 4,
 "nbformat_minor": 2
}
