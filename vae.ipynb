{
 "cells": [
  {
   "cell_type": "code",
   "execution_count": 3,
   "metadata": {},
   "outputs": [],
   "source": [
    "import matplotlib.pyplot as plt\n",
    "import numpy as np\n",
    "import tensorflow as tf\n",
    "from tensorflow.examples.tutorials.mnist import input_data"
   ]
  },
  {
   "cell_type": "code",
   "execution_count": 16,
   "metadata": {},
   "outputs": [
    {
     "name": "stdout",
     "output_type": "stream",
     "text": [
      "Extracting MNIST/train-images-idx3-ubyte.gz\n",
      "Extracting MNIST/train-labels-idx1-ubyte.gz\n",
      "Extracting MNIST/t10k-images-idx3-ubyte.gz\n",
      "Extracting MNIST/t10k-labels-idx1-ubyte.gz\n"
     ]
    }
   ],
   "source": [
    "# データをダウンロード\n",
    "mnist = input_data.read_data_sets('MNIST')"
   ]
  },
  {
   "cell_type": "code",
   "execution_count": 18,
   "metadata": {},
   "outputs": [],
   "source": [
    "# パラメータ設定\n",
    "input_dim = 784\n",
    "hidden_encoder_dim = 100\n",
    "hidden_decoder_dim = 100\n",
    "latent_dim = 5"
   ]
  },
  {
   "cell_type": "code",
   "execution_count": 19,
   "metadata": {},
   "outputs": [],
   "source": [
    "# 変数を生成する関数を定義\n",
    "def weight_variable(shape):\n",
    "    initial = tf.truncated_normal(shape, stddev=0.001)\n",
    "    return tf.Variable(initial)\n",
    "\n",
    "def bias_variable(shape):\n",
    "    initial = tf.constant(0., shape=shape)\n",
    "    return tf.Variable(initial)"
   ]
  },
  {
   "cell_type": "code",
   "execution_count": 20,
   "metadata": {},
   "outputs": [],
   "source": [
    "# 入力を入れるplaceholder\n",
    "x = tf.placeholder(\"float\", shape=[None, input_dim])\n",
    "\n",
    "# encoderの重みとバイアスを定義\n",
    "W1 = weight_variable([input_dim,hidden_encoder_dim])\n",
    "b1 = bias_variable([hidden_encoder_dim])\n",
    "W2_mu = weight_variable([hidden_encoder_dim,latent_dim])\n",
    "b2_mu = bias_variable([latent_dim])\n",
    "W2_logvar = weight_variable([hidden_encoder_dim,latent_dim])\n",
    "b2_logvar = bias_variable([latent_dim])\n",
    "\n",
    "# 平均値を計算すうｒ関数を定義\n",
    "hidden_encoder = tf.nn.relu(tf.matmul(x, W1) + b1)\n",
    "mu_encoder = tf.matmul(hidden_encoder, W2_mu) + b2_mu\n",
    "\n",
    "# 分散を計算する関数を定義\n",
    "logvar_encoder = tf.matmul(hidden_encoder, W2_logvar) + b2_logvar\n",
    "\n",
    "# zをサンプリング\n",
    "epsilon = tf.random_normal(tf.shape(logvar_encoder), name='epsilon')\n",
    "std_encoder = tf.exp(0.5 * logvar_encoder)\n",
    "z = mu_encoder + tf.multiply(std_encoder, epsilon)\n",
    "\n",
    "# decoderの重みとバイアスを定義\n",
    "W3 = weight_variable([latent_dim,hidden_decoder_dim])\n",
    "b3 = bias_variable([hidden_decoder_dim])\n",
    "W4 = weight_variable([hidden_decoder_dim, input_dim])\n",
    "b4 = bias_variable([input_dim])\n",
    "\n",
    "# xを生成する関数を定義\n",
    "hidden_decoder = tf.nn.relu(tf.matmul(z, W3) + b3)\n",
    "x_hat = tf.matmul(hidden_decoder, W4) + b4\n",
    "\n",
    "# ロス関数を定義\n",
    "KLD = -0.5 * tf.reduce_sum(1 + logvar_encoder - tf.pow(mu_encoder, 2) - tf.exp(logvar_encoder), reduction_indices=1)\n",
    "BCE = tf.reduce_sum(tf.nn.sigmoid_cross_entropy_with_logits(logits=x_hat, labels=x), reduction_indices=1)\n",
    "loss = tf.reduce_mean(BCE + KLD)\n",
    "\n",
    "# lossを最小化する手法を設定\n",
    "train_step = tf.train.AdamOptimizer(0.01).minimize(loss)"
   ]
  },
  {
   "cell_type": "code",
   "execution_count": 21,
   "metadata": {},
   "outputs": [
    {
     "name": "stdout",
     "output_type": "stream",
     "text": [
      "初期化\n",
      "Step 50 | Loss: 203.64865112304688\n",
      "Step 100 | Loss: 190.54820251464844\n",
      "Step 150 | Loss: 163.44662475585938\n",
      "Step 200 | Loss: 172.041015625\n",
      "Step 250 | Loss: 172.14996337890625\n",
      "Step 300 | Loss: 152.79173278808594\n",
      "Step 350 | Loss: 153.13583374023438\n",
      "Step 400 | Loss: 149.41575622558594\n",
      "Step 450 | Loss: 146.14276123046875\n",
      "Step 500 | Loss: 143.9248046875\n",
      "Step 550 | Loss: 137.74510192871094\n",
      "Step 600 | Loss: 134.4955596923828\n",
      "Step 650 | Loss: 139.21145629882812\n",
      "Step 700 | Loss: 139.8284149169922\n",
      "Step 750 | Loss: 138.5565643310547\n",
      "Step 800 | Loss: 132.3440704345703\n",
      "Step 850 | Loss: 140.44529724121094\n",
      "Step 900 | Loss: 138.3330535888672\n",
      "Step 950 | Loss: 137.05865478515625\n",
      "Step 1000 | Loss: 131.3252716064453\n",
      "Step 1050 | Loss: 145.70289611816406\n",
      "Step 1100 | Loss: 138.15560913085938\n",
      "Step 1150 | Loss: 142.2063446044922\n",
      "Step 1200 | Loss: 141.07803344726562\n",
      "Step 1250 | Loss: 127.98339080810547\n",
      "Step 1300 | Loss: 138.9432830810547\n",
      "Step 1350 | Loss: 133.95921325683594\n",
      "Step 1400 | Loss: 136.86221313476562\n",
      "Step 1450 | Loss: 137.95986938476562\n",
      "Step 1500 | Loss: 135.48532104492188\n",
      "Step 1550 | Loss: 130.47869873046875\n",
      "Step 1600 | Loss: 131.3998260498047\n",
      "Step 1650 | Loss: 146.2901153564453\n",
      "Step 1700 | Loss: 135.22119140625\n",
      "Step 1750 | Loss: 128.48870849609375\n",
      "Step 1800 | Loss: 134.17083740234375\n",
      "Step 1850 | Loss: 133.7756805419922\n",
      "Step 1900 | Loss: 131.23851013183594\n",
      "Step 1950 | Loss: 133.78253173828125\n",
      "Step 2000 | Loss: 138.53829956054688\n",
      "Step 2050 | Loss: 136.63558959960938\n",
      "Step 2100 | Loss: 133.1536865234375\n",
      "Step 2150 | Loss: 138.1369171142578\n",
      "Step 2200 | Loss: 132.0587921142578\n",
      "Step 2250 | Loss: 131.7408447265625\n",
      "Step 2300 | Loss: 138.17442321777344\n",
      "Step 2350 | Loss: 133.12416076660156\n",
      "Step 2400 | Loss: 141.07618713378906\n",
      "Step 2450 | Loss: 128.00070190429688\n",
      "Step 2500 | Loss: 133.35646057128906\n",
      "Step 2550 | Loss: 132.31224060058594\n",
      "Step 2600 | Loss: 128.9173583984375\n",
      "Step 2650 | Loss: 134.0574951171875\n",
      "Step 2700 | Loss: 126.3919906616211\n",
      "Step 2750 | Loss: 141.3531951904297\n",
      "Step 2800 | Loss: 138.64918518066406\n",
      "Step 2850 | Loss: 127.66053009033203\n",
      "Step 2900 | Loss: 127.69898223876953\n",
      "Step 2950 | Loss: 130.98028564453125\n",
      "Step 3000 | Loss: 127.10181427001953\n",
      "Step 3050 | Loss: 130.0130157470703\n",
      "Step 3100 | Loss: 132.18780517578125\n",
      "Step 3150 | Loss: 134.5778350830078\n",
      "Step 3200 | Loss: 133.3741455078125\n",
      "Step 3250 | Loss: 129.63636779785156\n",
      "Step 3300 | Loss: 136.15650939941406\n",
      "Step 3350 | Loss: 132.69700622558594\n",
      "Step 3400 | Loss: 125.7375259399414\n",
      "Step 3450 | Loss: 123.81961059570312\n",
      "Step 3500 | Loss: 134.99586486816406\n",
      "Step 3550 | Loss: 134.60189819335938\n",
      "Step 3600 | Loss: 129.12889099121094\n",
      "Step 3650 | Loss: 126.32341766357422\n",
      "Step 3700 | Loss: 129.72706604003906\n",
      "Step 3750 | Loss: 131.20172119140625\n",
      "Step 3800 | Loss: 126.90621185302734\n",
      "Step 3850 | Loss: 130.70921325683594\n",
      "Step 3900 | Loss: 137.9251708984375\n",
      "Step 3950 | Loss: 129.28868103027344\n",
      "Step 4000 | Loss: 131.8372802734375\n",
      "Step 4050 | Loss: 131.33941650390625\n",
      "Step 4100 | Loss: 132.99533081054688\n",
      "Step 4150 | Loss: 125.72865295410156\n",
      "Step 4200 | Loss: 131.60055541992188\n",
      "Step 4250 | Loss: 126.33906555175781\n",
      "Step 4300 | Loss: 126.39144897460938\n",
      "Step 4350 | Loss: 133.22723388671875\n",
      "Step 4400 | Loss: 134.46728515625\n",
      "Step 4450 | Loss: 135.93031311035156\n",
      "Step 4500 | Loss: 123.47164154052734\n",
      "Step 4550 | Loss: 136.0149383544922\n",
      "Step 4600 | Loss: 130.1698760986328\n",
      "Step 4650 | Loss: 130.57147216796875\n",
      "Step 4700 | Loss: 132.12181091308594\n",
      "Step 4750 | Loss: 128.79299926757812\n",
      "Step 4800 | Loss: 136.30160522460938\n",
      "Step 4850 | Loss: 120.70117950439453\n",
      "Step 4900 | Loss: 129.22305297851562\n",
      "Step 4950 | Loss: 133.99188232421875\n"
     ]
    }
   ],
   "source": [
    "# 学習\n",
    "saver = tf.train.Saver()\n",
    "n_steps = 5000\n",
    "batch_size = 100\n",
    "\n",
    "with tf.Session() as sess:\n",
    "    print(\"初期化\")\n",
    "    sess.run(tf.global_variables_initializer())\n",
    "\n",
    "    for step in range(1, n_steps):\n",
    "        batch = mnist.train.next_batch(batch_size)\n",
    "        feed_dict = {x: batch[0]}\n",
    "        _, cur_loss = sess.run([train_step, loss], feed_dict=feed_dict)\n",
    "\n",
    "        if step % 50 == 0:\n",
    "            # モデルを保存\n",
    "            saver.save(sess, \"model.ckpt\")\n",
    "            print(\"Step {0} | Loss: {1}\".format(step, cur_loss))"
   ]
  },
  {
   "cell_type": "code",
   "execution_count": 22,
   "metadata": {},
   "outputs": [
    {
     "name": "stdout",
     "output_type": "stream",
     "text": [
      "INFO:tensorflow:Restoring parameters from model.ckpt\n",
      "[[ 0 -1 -1  1  0]]\n"
     ]
    },
    {
     "data": {
      "image/png": "[encoded data removed]",
      "text/plain": [
       "<matplotlib.figure.Figure at 0x1232a35c0>"
      ]
     },
     "metadata": {},
     "output_type": "display_data"
    },
    {
     "name": "stdout",
     "output_type": "stream",
     "text": [
      "[[ 0  0  0 -1 -1]]\n"
     ]
    },
    {
     "data": {
      "image/png": "[encoded data removed]",
      "text/plain": [
       "<matplotlib.figure.Figure at 0x127c2bfd0>"
      ]
     },
     "metadata": {},
     "output_type": "display_data"
    },
    {
     "name": "stdout",
     "output_type": "stream",
     "text": [
      "[[1 0 0 0 0]]\n"
     ]
    },
    {
     "data": {
      "image/png": "[encoded data removed]",
      "text/plain": [
       "<matplotlib.figure.Figure at 0x1260bf5f8>"
      ]
     },
     "metadata": {},
     "output_type": "display_data"
    },
    {
     "name": "stdout",
     "output_type": "stream",
     "text": [
      "[[-1 -1  1  1 -1]]\n"
     ]
    },
    {
     "data": {
      "image/png": "[encoded data removed]",
      "text/plain": [
       "<matplotlib.figure.Figure at 0x126da3eb8>"
      ]
     },
     "metadata": {},
     "output_type": "display_data"
    },
    {
     "name": "stdout",
     "output_type": "stream",
     "text": [
      "[[-1  0  0 -1  0]]\n"
     ]
    },
    {
     "data": {
      "image/png": "[encoded data removed]",
      "text/plain": [
       "<matplotlib.figure.Figure at 0x1266fbf98>"
      ]
     },
     "metadata": {},
     "output_type": "display_data"
    },
    {
     "name": "stdout",
     "output_type": "stream",
     "text": [
      "[[1 0 1 1 1]]\n"
     ]
    },
    {
     "data": {
      "image/png": "[encoded data removed]",
      "text/plain": [
       "<matplotlib.figure.Figure at 0x1270a7978>"
      ]
     },
     "metadata": {},
     "output_type": "display_data"
    },
    {
     "name": "stdout",
     "output_type": "stream",
     "text": [
      "[[ 1  0  1  1 -1]]\n"
     ]
    },
    {
     "data": {
      "image/png": "[encoded data removed]",
      "text/plain": [
       "<matplotlib.figure.Figure at 0x1270e8550>"
      ]
     },
     "metadata": {},
     "output_type": "display_data"
    },
    {
     "name": "stdout",
     "output_type": "stream",
     "text": [
      "[[-1  1 -1 -1  1]]\n"
     ]
    },
    {
     "data": {
      "image/png": "[encoded data removed]",
      "text/plain": [
       "<matplotlib.figure.Figure at 0x1271e56a0>"
      ]
     },
     "metadata": {},
     "output_type": "display_data"
    },
    {
     "name": "stdout",
     "output_type": "stream",
     "text": [
      "[[ 1  0 -1  1  0]]\n"
     ]
    },
    {
     "data": {
      "image/png": "[encoded data removed]",
      "text/plain": [
       "<matplotlib.figure.Figure at 0x12730fe80>"
      ]
     },
     "metadata": {},
     "output_type": "display_data"
    },
    {
     "name": "stdout",
     "output_type": "stream",
     "text": [
      "[[ 0  0  1  0 -1]]\n"
     ]
    },
    {
     "data": {
      "image/png": "[encoded data removed]",
      "text/plain": [
       "<matplotlib.figure.Figure at 0x127376128>"
      ]
     },
     "metadata": {},
     "output_type": "display_data"
    }
   ],
   "source": [
    "# 生成\n",
    "# 隠れ変数を入れるplaceholder\n",
    "z_gen = tf.placeholder(\"float\", shape=[1,latent_dim])\n",
    "\n",
    "# 画像を生成する関数を定義\n",
    "hidden_decoder = tf.nn.relu(tf.matmul(z_gen, W3) + b3)\n",
    "x_gen = tf.matmul(hidden_decoder, W4) + b4\n",
    "\n",
    "saver = tf.train.Saver()\n",
    "\n",
    "with tf.Session() as sess:\n",
    "    # モデル読み込み\n",
    "    saver.restore(sess, \"model.ckpt\")\n",
    "    \n",
    "    for i in range(10):\n",
    "        # 隠れ変数をランダムに生成\n",
    "        z = np.random.randint(-1,2, (1,latent_dim))\n",
    "\n",
    "        feed_dict = {z_gen: z}\n",
    "        x = sess.run([x_gen], feed_dict=feed_dict)\n",
    "\n",
    "        print( z )\n",
    "        plt.imshow( x[0].reshape( 28,28 ) , cmap=\"gray\"  )\n",
    "        plt.show()"
   ]
  },
  {
   "cell_type": "code",
   "execution_count": null,
   "metadata": {},
   "outputs": [],
   "source": []
  }
 ],
 "metadata": {
  "kernelspec": {
   "display_name": "Python 3",
   "language": "python",
   "name": "python3"
  },
  "language_info": {
   "codemirror_mode": {
    "name": "ipython",
    "version": 3
   },
   "file_extension": ".py",
   "mimetype": "text/x-python",
   "name": "python",
   "nbconvert_exporter": "python",
   "pygments_lexer": "ipython3",
   "version": "3.6.4"
  }
 },
 "nbformat": 4,
 "nbformat_minor": 2
}
